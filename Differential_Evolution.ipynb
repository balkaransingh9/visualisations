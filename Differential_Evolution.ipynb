{
  "nbformat": 4,
  "nbformat_minor": 0,
  "metadata": {
    "colab": {
      "name": "Differential Evolution.ipynb",
      "provenance": [],
      "authorship_tag": "ABX9TyNut8XqXNSAISKi9LMT+4on"
    },
    "kernelspec": {
      "name": "python3",
      "display_name": "Python 3"
    }
  },
  "cells": [
    {
      "cell_type": "markdown",
      "metadata": {
        "id": "YQuUozATNDTt",
        "colab_type": "text"
      },
      "source": [
        "##Differential Evolution\n",
        "\n",
        "Initialization of the population\n",
        "\n",
        "1.   Initialization of the population\n",
        "2.   Mutation\n",
        "3.   Recombination\n",
        "4.   Replacement\n",
        "5.   Evaluation"
      ]
    },
    {
      "cell_type": "code",
      "metadata": {
        "id": "NUW1bxyFzRtr",
        "colab_type": "code",
        "colab": {
          "base_uri": "https://localhost:8080/",
          "height": 88
        },
        "outputId": "ce6e9a6f-3924-477b-a935-38ca59c55c9c"
      },
      "source": [
        "import numpy as np\n",
        "\n",
        "# Function to optimise\n",
        "fobj = lambda x: x**2\n",
        "\n",
        "def DE(popsize, dimensions, fobj, iterations=1000, cp=0.7):\n",
        "  pop = np.random.uniform(low=-5, high=5, size=(popsize,dimensions))\n",
        "  evaluations = [fobj(x) for x in pop]\n",
        "  print(evaluations)\n",
        "  bestidx = np.argmin(evaluations)\n",
        "  fittest = pop[bestidx]\n",
        "  print(fittest)\n",
        "  for i in range(iterations):\n",
        "    for j in range(popsize):\n",
        "      index = [i for i in range(len(pop)) if i != j]\n",
        "      rand3 = np.random.choice(index,3,replace=False)\n",
        "      a,b,c=pop[rand3]\n",
        "      mutantVec = a+0.8*(b-c)\n",
        "      boola = np.random.rand(dimensions) < cp\n",
        "      trial = np.where(boola, mutantVec, pop[j])\n",
        "      trialEval = fobj(trial)\n",
        "      if trialEval < evaluations[j]:\n",
        "        evaluations[j] = trialEval\n",
        "        pop[j] = trial\n",
        "        if trialEval < evaluations[bestidx]:\n",
        "          bestidx = j\n",
        "          fittest = trial\n",
        "  return fittest, evaluations[bestidx]\n",
        "\n",
        "DE(20,1,fobj)"
      ],
      "execution_count": 14,
      "outputs": [
        {
          "output_type": "stream",
          "text": [
            "[array([21.23520105]), array([9.00599122]), array([12.48939425]), array([0.05698966]), array([12.69223841]), array([15.80381607]), array([13.14062666]), array([17.628479]), array([14.44484741]), array([12.9417213]), array([21.55215006]), array([12.54673469]), array([3.5063705]), array([19.87678582]), array([11.87262596]), array([23.13552428]), array([2.2083945]), array([24.89542663]), array([4.21503618]), array([22.02901339])]\n",
            "[0.23872507]\n"
          ],
          "name": "stdout"
        },
        {
          "output_type": "execute_result",
          "data": {
            "text/plain": [
              "(array([-4.07046064e-141]), array([1.65686498e-281]))"
            ]
          },
          "metadata": {
            "tags": []
          },
          "execution_count": 14
        }
      ]
    }
  ]
}