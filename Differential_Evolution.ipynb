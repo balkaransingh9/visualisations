{
  "nbformat": 4,
  "nbformat_minor": 0,
  "metadata": {
    "colab": {
      "name": "Differential Evolution.ipynb",
      "provenance": [],
      "authorship_tag": "ABX9TyPsr0BVb9S1W7xPXG3ySAAQ"
    },
    "kernelspec": {
      "name": "python3",
      "display_name": "Python 3"
    }
  },
  "cells": [
    {
      "cell_type": "markdown",
      "metadata": {
        "id": "YQuUozATNDTt",
        "colab_type": "text"
      },
      "source": [
        "##Differential Evolution\n",
        "\n",
        "Initialization of the population\n",
        "\n",
        "1.   Initialization of the population\n",
        "2.   Mutation\n",
        "3.   Recombination\n",
        "4.   Replacement\n",
        "5.   Evaluation"
      ]
    },
    {
      "cell_type": "code",
      "metadata": {
        "id": "NUW1bxyFzRtr",
        "colab_type": "code",
        "colab": {
          "base_uri": "https://localhost:8080/",
          "height": 238
        },
        "outputId": "ac449b38-4b06-4f61-8a64-4e7c595456f2"
      },
      "source": [
        "import numpy as np\n",
        "\n",
        "# Function to optimise\n",
        "fobj = lambda x: sum(x**2)/len(x)\n",
        "bounds = [(-5, 5)] * 4\n",
        "\n",
        "def DE(popsize, dimensions, fobj, iterations=10):\n",
        "  pop = np.random.uniform(low=0.5, high=13.3, size=(popsize,dimensions))\n",
        "  evaluations = [fobj(x) for x in pop]\n",
        "  print(evaluations)\n",
        "  bestidx = np.argmin(evaluations)\n",
        "  fittest = pop[bestidx]\n",
        "  print(fittest)\n",
        "  print(bestidx)\n",
        "  for i in range(iterations):\n",
        "    print(\"mutation\")\n",
        "\n",
        "DE(9,4,fobj)"
      ],
      "execution_count": 16,
      "outputs": [
        {
          "output_type": "stream",
          "text": [
            "[96.21556918495139, 37.18657304337785, 107.63340962503992, 54.71371913449552, 35.93635305076735, 71.83002266901038, 86.73194338104891, 66.77653713808044, 76.44907171312612]\n",
            "[5.78671065 6.91274752 4.42012377 6.55254299]\n",
            "4\n",
            "mutation\n",
            "mutation\n",
            "mutation\n",
            "mutation\n",
            "mutation\n",
            "mutation\n",
            "mutation\n",
            "mutation\n",
            "mutation\n",
            "mutation\n"
          ],
          "name": "stdout"
        }
      ]
    }
  ]
}